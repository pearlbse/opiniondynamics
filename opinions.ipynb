{
  "cells": [
    {
      "cell_type": "markdown",
      "metadata": {
        "id": "MPO-z480ML0z"
      },
      "source": [
        "## <h1><center> Networks II Models and Applications</center></h1>\n",
        "<h1><center> Pearl Herrero</center></h1>\n"
      ]
    },
    {
      "cell_type": "markdown",
      "metadata": {
        "id": "2mIgLlM1ML02"
      },
      "source": [
        "\n",
        "To demonstrate that in a strongly connected and aperiodic society, if the trust values between agents satisfy $T_{ji} = T_{ij}$ for all agents $i$, it implies that every agent has equal influence, we need to establish that the beliefs of all agents eventually converge to the same value.\n",
        "\n",
        "Let's denote the belief of agent $i$ at time $t$ as $x_i(t)$. According to the DeGroot model, the belief of agent $i$ at time $t+1$ can be expressed as:\n",
        "\n",
        "\\begin{equation}\n",
        "x_i(t+1) = \\sum_{j \\in N_i} T_{ij} x_j(t)\n",
        "\\end{equation}\n",
        "\n",
        "where $N_i$ represents the set of neighbors of agent $i$.\n",
        "\n",
        "Since $T_{ji} = T_{ij}$ for all agents $i$, we can rewrite the above equation as:\n",
        "\n",
        "\\begin{equation}\n",
        "x_i(t+1) = \\sum_{j \\in N_i} T_{ji} x_j(t)\n",
        "\\end{equation}\n",
        "\n",
        "This indicates that the update rule for agent $i$ depends solely on the beliefs of its neighbors and not on its own belief. In a strongly connected and aperiodic society, each agent has a path to every other agent, ensuring that every agent's belief influences the beliefs of all other agents.\n",
        "\n",
        "Now, let's consider a stronger proposition: in a strongly connected and aperiodic society, if $\\sum_{j} T_{ji} = 1$ for all agents $i$, then every agent has the same influence.\n",
        "\n",
        "If $\\sum_{j} T_{ji} = 1$ for all agents $i$, it implies that the row sum of the matrix $T$ is equal to 1. This property indicates that the eigenvector corresponding to the eigenvalue 1 is a vector of all ones. Let $\\boldsymbol{s}$ represent this eigenvector. By utilizing the eigenvector property, we can state:\n",
        "\n",
        "\\begin{equation}\n",
        "\\sum_{j} T_{ij} s_j = s_i \\text{ for all } i\n",
        "\\end{equation}\n",
        "\n",
        "This implies that the influence of agent $i$ is a weighted sum of the influences of its neighbors (individuals $j$ who pay attention to $i$). The influence of agent $j$ is weighted by $T_{ji}$, which represents the trust that agent $j$ places in agent $i$. In a strongly connected and aperiodic society, each agent has a path to every other agent, which ensures that the influence of every agent affects the influence of all other agents.\n",
        "\n",
        "Now, let's assume the existence of two agents $i$ and $j$ with different influences, where the influence of agent $i$ is greater than that of agent $j$. In this case, we have:\n",
        "\n",
        "\\begin{equation}\n",
        "\\sum_{k} T_{ik} s_k > \\sum_{k} T_{jk} s_k \\text{ for all } k\n",
        "\\end{equation}\n",
        "\n",
        "By multiplying both sides of the inequality by $s_i$ and $s_j$ respectively, and summing over all $k$, we obtain:\n",
        "\n",
        "\\begin{equation}\n",
        "\\sum_{k} T_{ik} s_i s_k > \\sum_{k} T_{jk} s_j s_k \\text{ for all } k\n",
        "\\end{equation}\n",
        "\n",
        "However, this contradicts the fact that the eigenvector $\\boldsymbol{s}$ corresponds to the eigenvalue 1, which implies that $\\sum_{k} T_{ik} s_i = \\sum_{k} T_{jk} s_j =\n"
      ]
    },
    {
      "cell_type": "markdown",
      "metadata": {
        "id": "EXOxMZtqML03"
      },
      "source": [
        "### QUESTION 3"
      ]
    },
    {
      "cell_type": "code",
      "execution_count": null,
      "metadata": {
        "id": "arCiLHchML03"
      },
      "outputs": [],
      "source": [
        "import networkx as nx\n",
        "import numpy as np\n",
        "import matplotlib.pyplot as plt\n",
        "import os\n",
        "from scipy.io import loadmat\n",
        "import pandas as pd\n",
        "import statistics\n",
        "import pickle\n",
        "\n",
        "os.chdir('C:/Users/herre/OneDrive/Desktop/Networks/PS2')\n"
      ]
    },
    {
      "cell_type": "code",
      "execution_count": null,
      "metadata": {
        "id": "CV3dYZhAML04"
      },
      "outputs": [],
      "source": [
        "def load_data(filename):\n",
        "    mat = loadmat(filename)\n",
        "    adjacency_matrix = mat['A']\n",
        "    g = nx.from_numpy_array(adjacency_matrix)\n",
        "    largest_component = max(nx.connected_components(g), key=len)\n",
        "    return g.subgraph(largest_component)"
      ]
    },
    {
      "cell_type": "code",
      "execution_count": null,
      "metadata": {
        "id": "yrvDu8UAML05",
        "outputId": "fac21229-b49f-4f3c-e671-57c2d3c5cddb"
      },
      "outputs": [
        {
          "name": "stdout",
          "output_type": "stream",
          "text": [
            "Processing Villanova62.mat...\n",
            "Processing UCLA26.mat...\n",
            "Processing Tennessee95.mat...\n",
            "Processing NYU9.mat...\n",
            "Processing Carnegie49.mat...\n",
            "Processing GWU54.mat...\n",
            "Processing USF51.mat...\n",
            "Processing Vanderbilt48.mat...\n",
            "Processing USC35.mat...\n",
            "Processing Rutgers89.mat...\n",
            "Processing UConn91.mat...\n",
            "Processing MIT8.mat...\n",
            "Processing USFCA72.mat...\n",
            "Processing UChicago30.mat...\n",
            "Processing UIllinois20.mat...\n",
            "Processing UC61.mat...\n",
            "Processing Cal65.mat...\n",
            "Processing Yale4.mat...\n",
            "Processing Northeastern19.mat...\n",
            "Processing Dartmouth6.mat...\n",
            "Processing Vermont70.mat...\n",
            "Processing Northwestern25.mat...\n",
            "Processing William77.mat...\n",
            "Processing Harvard1.mat...\n",
            "Processing Princeton12.mat...\n",
            "Processing UC64.mat...\n",
            "Processing Middlebury45.mat...\n",
            "Processing Haverford76.mat...\n",
            "Processing Bingham82.mat...\n",
            "Processing UNC28.mat...\n",
            "Processing Berkeley13.mat...\n",
            "Processing Rochester38.mat...\n",
            "Processing Swarthmore42.mat...\n",
            "Processing Virginia63.mat...\n",
            "Processing WashU32.mat...\n",
            "Processing Columbia2.mat...\n",
            "Processing Notre Dame57.mat...\n",
            "Processing Bucknell39.mat...\n",
            "Processing UVA16.mat...\n",
            "Processing Maine59.mat...\n",
            "Processing MU78.mat...\n",
            "Processing Simmons81.mat...\n",
            "Processing MSU24.mat...\n",
            "Processing Colgate88.mat...\n",
            "Processing Temple83.mat...\n",
            "Processing Cornell5.mat...\n",
            "Processing Indiana69.mat...\n",
            "Processing Oklahoma97.mat...\n",
            "Processing Michigan23.mat...\n",
            "Processing BU10.mat...\n",
            "Processing Brown11.mat...\n",
            "Processing Auburn71.mat...\n",
            "Processing FSU53.mat...\n",
            "Processing UGA50.mat...\n",
            "Processing UCF52.mat...\n",
            "Processing Howard90.mat...\n",
            "Processing UCSD34.mat...\n",
            "Processing Vassar85.mat...\n",
            "Processing Tufts18.mat...\n",
            "Processing UPenn7.mat...\n",
            "Processing Baylor93.mat...\n",
            "Processing UMass92.mat...\n",
            "Processing Bowdoin47.mat...\n",
            "Processing Maryland58.mat...\n",
            "Processing Penn94.mat...\n",
            "Processing Wesleyan43.mat...\n",
            "Processing UC33.mat...\n",
            "Processing Rice31.mat...\n",
            "Processing UCSC68.mat...\n",
            "Processing Smith60.mat...\n",
            "Processing Caltech36.mat...\n",
            "Processing Hamilton46.mat...\n",
            "Processing Oberlin44.mat...\n",
            "Processing American75.mat...\n",
            "Processing Mich67.mat...\n",
            "Processing Mississippi66.mat...\n",
            "Processing Williams40.mat...\n",
            "Processing UCSB37.mat...\n",
            "Processing Amherst41.mat...\n",
            "Processing Duke14.mat...\n",
            "Processing Pepperdine86.mat...\n",
            "Processing Wake73.mat...\n",
            "Processing Lehigh96.mat...\n",
            "Processing Reed98.mat...\n",
            "Processing Tulane29.mat...\n",
            "Processing Texas84.mat...\n",
            "Processing Wellesley22.mat...\n",
            "Processing JMU79.mat...\n",
            "Processing Santa74.mat...\n",
            "Processing Wisconsin87.mat...\n",
            "Processing Stanford3.mat...\n",
            "Processing Texas80.mat...\n",
            "Processing UF21.mat...\n",
            "Processing Johns Hopkins55.mat...\n",
            "Processing Syracuse56.mat...\n",
            "Processing BC17.mat...\n",
            "Processing Georgetown15.mat...\n",
            "Processing Trinity100.mat...\n",
            "Processing Brandeis99.mat...\n",
            "Processing Emory27.mat...\n"
          ]
        }
      ],
      "source": [
        "subgraphs = []\n",
        "for filename in os.listdir('facebook100'):\n",
        "    if filename.endswith('.mat'):\n",
        "        print(f\"Processing {filename}...\")\n",
        "        subgraph = load_data(os.path.join('facebook100', filename))\n",
        "        subgraphs.append(subgraph)"
      ]
    },
    {
      "cell_type": "markdown",
      "metadata": {
        "id": "F9TO9L-vML05"
      },
      "source": [
        "Saving this computationally expensive subggraphs list."
      ]
    },
    {
      "cell_type": "code",
      "execution_count": null,
      "metadata": {
        "id": "jFZ72YvLML06"
      },
      "outputs": [],
      "source": [
        "with open('subgraphs.pkl', 'wb') as file:\n",
        "    pickle.dump(subgraphs, file)"
      ]
    },
    {
      "cell_type": "code",
      "execution_count": null,
      "metadata": {
        "id": "cxkNPMF1ML06"
      },
      "outputs": [],
      "source": [
        "with open('subgraphs.pkl', 'rb') as file:\n",
        "    subgraphs = pickle.load(file)"
      ]
    },
    {
      "cell_type": "markdown",
      "metadata": {
        "id": "Ob8wf6IDML06"
      },
      "source": [
        "##### (a) To simplify things we will assume that each node \"listens\" to all her neighbors (and herself) with the same probability. In other words, we assume that $T_{ij} = \\frac{1}{1 + d_i}$ for all $j \\in N_i$ and also  $T_{ii} = \\frac{1}{1 + d_i}$."
      ]
    },
    {
      "cell_type": "code",
      "execution_count": null,
      "metadata": {
        "id": "7gDAfaKBML06"
      },
      "outputs": [],
      "source": [
        "def compute_T(g):\n",
        "    T = {}\n",
        "    for node in g.nodes():\n",
        "        neighbors = list(g.neighbors(node))\n",
        "        d = len(neighbors)\n",
        "        t = 1 / (1 + d)\n",
        "        T[node] = {neighbor: t for neighbor in neighbors}\n",
        "        T[node][node] = t\n",
        "    return T\n"
      ]
    },
    {
      "cell_type": "markdown",
      "metadata": {
        "id": "n1yfsBtFML06"
      },
      "source": [
        "##### (b) Since we don’t have any way of performing sentiment analysis on this data, we will instead simulate innate/original opinions from a uniform(0,1). In other words, assign to each node a $p_i(0)$ that is drawn from a uniform random variable"
      ]
    },
    {
      "cell_type": "code",
      "execution_count": null,
      "metadata": {
        "id": "4csK0FnnML07"
      },
      "outputs": [],
      "source": [
        "def assign_p0(g):\n",
        "    p0 = {node: np.random.uniform(0, 1) for node in g.nodes()}\n",
        "    return p0\n"
      ]
    },
    {
      "cell_type": "code",
      "execution_count": null,
      "metadata": {
        "id": "r3rTLz3IML07"
      },
      "outputs": [],
      "source": [
        "def power_iteration(matrix, num_iterations=1000, tol=1e-6):\n",
        "    n = matrix.shape[0]\n",
        "    vector = np.random.rand(n)\n",
        "    vector /= np.linalg.norm(vector)\n",
        "\n",
        "    for _ in range(num_iterations):\n",
        "        new_vector = np.dot(matrix, vector)\n",
        "        new_vector /= np.linalg.norm(new_vector)\n",
        "\n",
        "        if np.linalg.norm(new_vector - vector) < tol:\n",
        "            break\n",
        "\n",
        "        vector = new_vector\n",
        "\n",
        "    largest_eigenvalue = np.dot(np.dot(matrix, vector), vector) / np.dot(vector, vector)\n",
        "\n",
        "    # Deflate the matrix to find the second-largest eigenvalue\n",
        "    deflated_matrix = matrix - largest_eigenvalue * np.outer(vector, vector)\n",
        "\n",
        "    second_vector = np.random.rand(n)\n",
        "    second_vector /= np.linalg.norm(second_vector)\n",
        "\n",
        "    for _ in range(num_iterations):\n",
        "        new_second_vector = np.dot(deflated_matrix, second_vector)\n",
        "        new_second_vector /= np.linalg.norm(new_second_vector)\n",
        "\n",
        "        if np.linalg.norm(new_second_vector - second_vector) < tol:\n",
        "            break\n",
        "\n",
        "        second_vector = new_second_vector\n",
        "\n",
        "    second_largest_eigenvalue = np.dot(np.dot(deflated_matrix, second_vector), second_vector) / np.dot(second_vector, second_vector)\n",
        "\n",
        "    return largest_eigenvalue, vector, second_largest_eigenvalue\n",
        "\n",
        "def calculate_s(T):\n",
        "    _, s, second_largest_eigenvalue = power_iteration(T.T)\n",
        "    return s, second_largest_eigenvalue\n"
      ]
    },
    {
      "cell_type": "code",
      "execution_count": null,
      "metadata": {
        "id": "0umWtnVFML07"
      },
      "outputs": [],
      "source": [
        "def degroot(transition_matrix, initial_opinions, tolerance=1e-6):\n",
        "    opinions = initial_opinions.copy()\n",
        "    delta = 1\n",
        "    opinions_history = [opinions.copy()]\n",
        "\n",
        "    while delta > tolerance:\n",
        "        delta = 0\n",
        "        new_opinions = opinions.copy()\n",
        "\n",
        "        for node, neighbors in transition_matrix.items():\n",
        "            new_opinion = sum(transition_matrix[node][neighbor] * opinions[neighbor] for neighbor in neighbors)\n",
        "            delta = max(delta, abs(new_opinion - opinions[node]))\n",
        "            new_opinions[node] = new_opinion\n",
        "\n",
        "        opinions = new_opinions\n",
        "        opinions_history.append(opinions.copy())\n",
        "\n",
        "    return opinions, opinions_history\n"
      ]
    },
    {
      "cell_type": "markdown",
      "metadata": {
        "id": "QD98ZwuyML07"
      },
      "source": [
        "##### (c) Since we have only one component and all edges are bi-directional (and we assume everyone pays some attention to themselves) then we should obtain convergence to consensus. Compute the influence vector for each network and report a histogram of the influences obtained across all vectors. What is the maximum influence? and the median influence?"
      ]
    },
    {
      "cell_type": "code",
      "execution_count": null,
      "metadata": {
        "id": "RewnPAOJML07"
      },
      "outputs": [],
      "source": [
        "def plot_histogram(values, title):\n",
        "    plt.figure(figsize=(10, 6))  # Set the size of the plot\n",
        "    plt.hist(values, bins=50, color='steelblue', edgecolor='black', alpha=0.7)\n",
        "    plt.title(title, fontsize=18)\n",
        "    plt.xlabel('Influence', fontsize=14)\n",
        "    plt.ylabel('Frequency', fontsize=14)\n",
        "    plt.xticks(fontsize=12)\n",
        "    plt.yticks(fontsize=12)\n",
        "    plt.grid(axis='y', alpha=0.5)\n",
        "    plt.show()\n"
      ]
    },
    {
      "cell_type": "code",
      "execution_count": null,
      "metadata": {
        "id": "Y5Dxr2kaML07"
      },
      "outputs": [],
      "source": [
        "import time\n",
        "\n",
        "def analyze_opinion_dynamics(g):\n",
        "    start_time = time.time()\n",
        "\n",
        "    transition_matrix_dict = compute_T(g)\n",
        "    nodes = list(g.nodes())\n",
        "    n = len(nodes)\n",
        "    transition_matrix_np = np.zeros((n, n))\n",
        "    for i, node in enumerate(nodes):\n",
        "        for j, neighbor in enumerate(nodes):\n",
        "            if neighbor in transition_matrix_dict[node]:\n",
        "                transition_matrix_np[i, j] = transition_matrix_dict[node][neighbor]\n",
        "    print(\"compute_transition_matrix time:\", time.time() - start_time)\n",
        "\n",
        "    start_time = time.time()\n",
        "    initial_opinions = assign_p0(g)\n",
        "    print(\"assign_initial_opinions time:\", time.time() - start_time)\n",
        "\n",
        "    start_time = time.time()\n",
        "    influence_vector, second_eigenvalue = calculate_s(transition_matrix_np)\n",
        "    print(\"calculate_influence_vector time:\", time.time() - start_time)\n",
        "\n",
        "    start_time = time.time()\n",
        "    final_opinions, opinions_history = degroot(transition_matrix_dict, initial_opinions)\n",
        "    print(\"degroot time:\", time.time() - start_time)\n",
        "\n",
        "    return final_opinions, influence_vector, opinions_history, second_eigenvalue"
      ]
    },
    {
      "cell_type": "code",
      "execution_count": null,
      "metadata": {
        "id": "CXCN4LOkML08",
        "outputId": "86a061cc-1d57-4f4f-aff7-b923bb886db0"
      },
      "outputs": [
        {
          "name": "stdout",
          "output_type": "stream",
          "text": [
            "Working on subgraph number 1\n",
            "compute_transition_matrix time: 3.4148941040039062\n",
            "assign_initial_opinions time: 0.015726089477539062\n",
            "calculate_influence_vector time: 6.722639799118042\n",
            "degroot time: 4.733193874359131\n",
            "Working on subgraph number 2\n",
            "compute_transition_matrix time: 21.063088178634644\n",
            "assign_initial_opinions time: 0.024916887283325195\n",
            "calculate_influence_vector time: 52.6827609539032\n",
            "degroot time: 16.69032096862793\n",
            "Working on subgraph number 3\n",
            "compute_transition_matrix time: 15.22661280632019\n",
            "assign_initial_opinions time: 0.021195173263549805\n",
            "calculate_influence_vector time: 18.2208149433136\n",
            "degroot time: 10.154151916503906\n",
            "Working on subgraph number 4\n",
            "compute_transition_matrix time: 23.392648935317993\n",
            "assign_initial_opinions time: 0.02774810791015625\n",
            "calculate_influence_vector time: 75.39256000518799\n",
            "degroot time: 11.685522079467773\n",
            "Working on subgraph number 5\n",
            "compute_transition_matrix time: 2.615428924560547\n",
            "assign_initial_opinions time: 0.00832223892211914\n",
            "calculate_influence_vector time: 5.490686893463135\n",
            "degroot time: 7.184540033340454\n",
            "Working on subgraph number 6\n",
            "compute_transition_matrix time: 7.727639675140381\n",
            "assign_initial_opinions time: 0.014605045318603516\n",
            "calculate_influence_vector time: 26.359175205230713\n",
            "degroot time: 8.098601818084717\n",
            "Working on subgraph number 7\n",
            "compute_transition_matrix time: 9.517333030700684\n",
            "assign_initial_opinions time: 0.015559911727905273\n",
            "calculate_influence_vector time: 30.893110990524292\n",
            "degroot time: 4.286694288253784\n",
            "Working on subgraph number 8\n",
            "compute_transition_matrix time: 4.034664154052734\n",
            "assign_initial_opinions time: 0.010104894638061523\n",
            "calculate_influence_vector time: 5.670660734176636\n",
            "degroot time: 9.597144842147827\n",
            "Working on subgraph number 9\n",
            "compute_transition_matrix time: 16.061970949172974\n",
            "assign_initial_opinions time: 0.02023625373840332\n",
            "calculate_influence_vector time: 20.701371908187866\n",
            "degroot time: 19.77259111404419\n",
            "Working on subgraph number 10\n",
            "compute_transition_matrix time: 31.13456892967224\n",
            "assign_initial_opinions time: 0.037078857421875\n",
            "calculate_influence_vector time: 1093.288826227188\n",
            "degroot time: 14.12267279624939\n",
            "Working on subgraph number 11\n",
            "compute_transition_matrix time: 14.985589265823364\n",
            "assign_initial_opinions time: 0.025917768478393555\n",
            "calculate_influence_vector time: 26.490388870239258\n",
            "degroot time: 11.198318004608154\n",
            "Working on subgraph number 12\n",
            "compute_transition_matrix time: 2.4575600624084473\n",
            "assign_initial_opinions time: 0.010010719299316406\n",
            "calculate_influence_vector time: 3.5166099071502686\n",
            "degroot time: 5.240418910980225\n",
            "Working on subgraph number 13\n",
            "compute_transition_matrix time: 0.4299459457397461\n",
            "assign_initial_opinions time: 0.0030951499938964844\n",
            "calculate_influence_vector time: 1.2303869724273682\n",
            "degroot time: 0.8130521774291992\n",
            "Working on subgraph number 14\n",
            "compute_transition_matrix time: 2.348911762237549\n",
            "assign_initial_opinions time: 0.007673025131225586\n",
            "calculate_influence_vector time: 4.504500150680542\n",
            "degroot time: 8.59834885597229\n",
            "Working on subgraph number 15\n",
            "compute_transition_matrix time: 47.750592947006226\n",
            "assign_initial_opinions time: 0.037600040435791016\n",
            "calculate_influence_vector time: 1788.0018079280853\n",
            "degroot time: 19.650113821029663\n",
            "Working on subgraph number 16\n",
            "compute_transition_matrix time: 9.496989250183105\n",
            "assign_initial_opinions time: 0.01879096031188965\n",
            "calculate_influence_vector time: 9.477116823196411\n",
            "degroot time: 14.786661148071289\n",
            "Working on subgraph number 17\n",
            "compute_transition_matrix time: 6.420515775680542\n",
            "assign_initial_opinions time: 0.013261079788208008\n",
            "calculate_influence_vector time: 5.251731872558594\n",
            "degroot time: 3.7418007850646973\n",
            "Working on subgraph number 18\n",
            "compute_transition_matrix time: 3.983186960220337\n",
            "assign_initial_opinions time: 0.009936809539794922\n",
            "calculate_influence_vector time: 7.500120162963867\n",
            "degroot time: 8.661559820175171\n",
            "Working on subgraph number 19\n",
            "compute_transition_matrix time: 9.784196853637695\n",
            "assign_initial_opinions time: 0.01620626449584961\n",
            "calculate_influence_vector time: 31.772012948989868\n",
            "degroot time: 8.600123882293701\n",
            "Working on subgraph number 20\n",
            "compute_transition_matrix time: 3.211944103240967\n",
            "assign_initial_opinions time: 0.009249210357666016\n",
            "calculate_influence_vector time: 9.944447994232178\n",
            "degroot time: 6.099617004394531\n",
            "Working on subgraph number 21\n",
            "compute_transition_matrix time: 2.993551015853882\n",
            "assign_initial_opinions time: 0.009280681610107422\n",
            "calculate_influence_vector time: 2.423962116241455\n",
            "degroot time: 2.291166067123413\n",
            "Working on subgraph number 22\n",
            "compute_transition_matrix time: 5.989598035812378\n",
            "assign_initial_opinions time: 0.012304067611694336\n",
            "calculate_influence_vector time: 9.745574951171875\n",
            "degroot time: 9.055969953536987\n",
            "Working on subgraph number 23\n",
            "compute_transition_matrix time: 2.4026339054107666\n",
            "assign_initial_opinions time: 0.0076122283935546875\n",
            "calculate_influence_vector time: 3.7921600341796875\n",
            "degroot time: 8.325323104858398\n",
            "Working on subgraph number 24\n",
            "compute_transition_matrix time: 11.766436100006104\n",
            "assign_initial_opinions time: 0.01744389533996582\n",
            "calculate_influence_vector time: 42.238524198532104\n",
            "degroot time: 103.60865497589111\n",
            "Working on subgraph number 25\n",
            "compute_transition_matrix time: 2.4179298877716064\n",
            "assign_initial_opinions time: 0.0078122615814208984\n",
            "calculate_influence_vector time: 2.7039389610290527\n",
            "degroot time: 8.874454975128174\n",
            "Working on subgraph number 26\n",
            "compute_transition_matrix time: 2.392760992050171\n",
            "assign_initial_opinions time: 0.008051872253417969\n",
            "calculate_influence_vector time: 2.1852779388427734\n",
            "degroot time: 2.4893290996551514\n",
            "Working on subgraph number 27\n",
            "compute_transition_matrix time: 0.5856449604034424\n",
            "assign_initial_opinions time: 0.0035419464111328125\n",
            "calculate_influence_vector time: 0.4539060592651367\n",
            "degroot time: 1.6334280967712402\n",
            "Working on subgraph number 28\n",
            "compute_transition_matrix time: 0.1651749610900879\n",
            "assign_initial_opinions time: 0.001672983169555664\n",
            "calculate_influence_vector time: 0.07755279541015625\n",
            "degroot time: 0.7416050434112549\n",
            "Working on subgraph number 29\n",
            "compute_transition_matrix time: 5.207805871963501\n",
            "assign_initial_opinions time: 0.012141942977905273\n",
            "calculate_influence_vector time: 9.94350528717041\n",
            "degroot time: 5.03271484375\n",
            "Working on subgraph number 30\n",
            "compute_transition_matrix time: 16.754439115524292\n",
            "assign_initial_opinions time: 0.021752119064331055\n",
            "calculate_influence_vector time: 23.613772869110107\n",
            "degroot time: 11.685526132583618\n",
            "Working on subgraph number 31\n",
            "compute_transition_matrix time: 26.250727891921997\n",
            "assign_initial_opinions time: 0.02692890167236328\n",
            "calculate_influence_vector time: 90.48729109764099\n",
            "degroot time: 10.480391025543213\n",
            "Working on subgraph number 32\n",
            "compute_transition_matrix time: 1.310521125793457\n",
            "assign_initial_opinions time: 0.0057070255279541016\n",
            "calculate_influence_vector time: 1.3237671852111816\n",
            "degroot time: 3.061882734298706\n",
            "Working on subgraph number 33\n",
            "compute_transition_matrix time: 0.2102210521697998\n",
            "assign_initial_opinions time: 0.003139972686767578\n",
            "calculate_influence_vector time: 0.25867390632629395\n",
            "degroot time: 0.5154149532318115\n",
            "Working on subgraph number 34\n",
            "compute_transition_matrix time: 23.139002084732056\n",
            "assign_initial_opinions time: 0.025924205780029297\n",
            "calculate_influence_vector time: 23.32972002029419\n",
            "degroot time: 19.14800190925598\n",
            "Working on subgraph number 35\n",
            "compute_transition_matrix time: 3.316819906234741\n",
            "assign_initial_opinions time: 0.010597944259643555\n",
            "calculate_influence_vector time: 4.352032899856567\n",
            "degroot time: 5.624721050262451\n",
            "Working on subgraph number 36\n",
            "compute_transition_matrix time: 7.069951295852661\n",
            "assign_initial_opinions time: 0.013589859008789062\n",
            "calculate_influence_vector time: 11.184448003768921\n",
            "degroot time: 11.784655094146729\n",
            "Working on subgraph number 37\n",
            "compute_transition_matrix time: 7.759305953979492\n",
            "assign_initial_opinions time: 0.014106988906860352\n",
            "calculate_influence_vector time: 6.9609291553497314\n",
            "degroot time: 10.326781988143921\n",
            "Working on subgraph number 38\n",
            "compute_transition_matrix time: 0.9029929637908936\n",
            "assign_initial_opinions time: 0.0043468475341796875\n",
            "calculate_influence_vector time: 0.7362449169158936\n",
            "degroot time: 1.7399110794067383\n",
            "Working on subgraph number 39\n",
            "compute_transition_matrix time: 15.086211681365967\n",
            "assign_initial_opinions time: 0.019845008850097656\n",
            "calculate_influence_vector time: 24.92928910255432\n",
            "degroot time: 16.34618878364563\n",
            "Working on subgraph number 40\n",
            "compute_transition_matrix time: 4.222311973571777\n",
            "assign_initial_opinions time: 0.010573863983154297\n",
            "calculate_influence_vector time: 7.587984800338745\n",
            "degroot time: 2.8983559608459473\n",
            "Working on subgraph number 41\n",
            "compute_transition_matrix time: 12.251741170883179\n",
            "assign_initial_opinions time: 0.0178530216217041\n",
            "calculate_influence_vector time: 17.8628408908844\n",
            "degroot time: 8.763967990875244\n",
            "Working on subgraph number 42\n",
            "compute_transition_matrix time: 0.14804291725158691\n",
            "assign_initial_opinions time: 0.0017719268798828125\n",
            "calculate_influence_vector time: 0.18199706077575684\n",
            "degroot time: 0.9731082916259766\n",
            "Working on subgraph number 43\n",
            "compute_transition_matrix time: 51.50044798851013\n",
            "assign_initial_opinions time: 0.037805795669555664\n",
            "calculate_influence_vector time: 385.60285902023315\n",
            "degroot time: 18.34383988380432\n",
            "Working on subgraph number 44\n",
            "compute_transition_matrix time: 0.7914302349090576\n",
            "assign_initial_opinions time: 0.00661778450012207\n",
            "calculate_influence_vector time: 0.4973921775817871\n",
            "degroot time: 2.0864639282226562\n",
            "Working on subgraph number 45\n",
            "compute_transition_matrix time: 9.716519832611084\n",
            "assign_initial_opinions time: 0.01628899574279785\n",
            "calculate_influence_vector time: 17.146562099456787\n",
            "degroot time: 7.65552282333374\n",
            "Working on subgraph number 46\n",
            "compute_transition_matrix time: 18.99771785736084\n",
            "assign_initial_opinions time: 0.022695064544677734\n",
            "calculate_influence_vector time: 30.456100702285767\n",
            "degroot time: 21.16851305961609\n",
            "Working on subgraph number 47\n",
            "compute_transition_matrix time: 45.87660503387451\n",
            "assign_initial_opinions time: 0.03485989570617676\n",
            "calculate_influence_vector time: 130.36943984031677\n",
            "degroot time: 18.627481698989868\n",
            "Working on subgraph number 48\n",
            "compute_transition_matrix time: 16.35092782974243\n",
            "assign_initial_opinions time: 0.021905183792114258\n",
            "calculate_influence_vector time: 13.686678886413574\n",
            "degroot time: 19.33181405067444\n",
            "Working on subgraph number 49\n",
            "compute_transition_matrix time: 46.21570110321045\n",
            "assign_initial_opinions time: 0.03546714782714844\n",
            "calculate_influence_vector time: 192.60774683952332\n",
            "degroot time: 29.603779792785645\n",
            "Working on subgraph number 50\n",
            "compute_transition_matrix time: 20.89280414581299\n",
            "assign_initial_opinions time: 0.024817943572998047\n",
            "calculate_influence_vector time: 73.00803303718567\n",
            "degroot time: 25.941549062728882\n",
            "Working on subgraph number 51\n",
            "compute_transition_matrix time: 4.204229116439819\n",
            "assign_initial_opinions time: 0.010131120681762695\n",
            "calculate_influence_vector time: 12.662410974502563\n",
            "degroot time: 5.596967935562134\n",
            "Working on subgraph number 52\n",
            "compute_transition_matrix time: 19.10415005683899\n",
            "assign_initial_opinions time: 0.0225830078125\n",
            "calculate_influence_vector time: 14.931254863739014\n",
            "degroot time: 20.49024200439453\n",
            "Working on subgraph number 53\n",
            "compute_transition_matrix time: 40.308321952819824\n",
            "assign_initial_opinions time: 0.03293609619140625\n",
            "calculate_influence_vector time: 115.7278618812561\n",
            "degroot time: 16.916931867599487\n",
            "Working on subgraph number 54\n",
            "compute_transition_matrix time: 31.234008073806763\n",
            "assign_initial_opinions time: 0.029337167739868164\n",
            "calculate_influence_vector time: 36.92923378944397\n",
            "degroot time: 26.77402400970459\n",
            "Working on subgraph number 55\n",
            "compute_transition_matrix time: 11.49074411392212\n",
            "assign_initial_opinions time: 0.019063949584960938\n",
            "calculate_influence_vector time: 30.896293878555298\n",
            "degroot time: 5.520705938339233\n",
            "Working on subgraph number 56\n",
            "compute_transition_matrix time: 1.1031129360198975\n",
            "assign_initial_opinions time: 0.004809141159057617\n",
            "calculate_influence_vector time: 2.891150951385498\n",
            "degroot time: 2.0416269302368164\n",
            "Working on subgraph number 57\n",
            "compute_transition_matrix time: 11.996985912322998\n",
            "assign_initial_opinions time: 0.0176389217376709\n",
            "calculate_influence_vector time: 17.436721086502075\n",
            "degroot time: 10.825330972671509\n",
            "Working on subgraph number 58\n",
            "compute_transition_matrix time: 0.6052439212799072\n",
            "assign_initial_opinions time: 0.003545045852661133\n",
            "calculate_influence_vector time: 0.646662712097168\n",
            "degroot time: 3.556817054748535\n",
            "Working on subgraph number 59\n",
            "compute_transition_matrix time: 2.586433172225952\n",
            "assign_initial_opinions time: 0.008076190948486328\n",
            "calculate_influence_vector time: 8.763722896575928\n",
            "degroot time: 6.352546215057373\n",
            "Working on subgraph number 60\n",
            "compute_transition_matrix time: 11.92649221420288\n",
            "assign_initial_opinions time: 0.018053054809570312\n",
            "calculate_influence_vector time: 20.12766408920288\n",
            "degroot time: 21.276063919067383\n",
            "Working on subgraph number 61\n",
            "compute_transition_matrix time: 9.212259292602539\n",
            "assign_initial_opinions time: 0.01563882827758789\n",
            "calculate_influence_vector time: 27.725881099700928\n",
            "degroot time: 6.16228985786438\n",
            "Working on subgraph number 62\n",
            "compute_transition_matrix time: 14.687798023223877\n",
            "assign_initial_opinions time: 0.020168066024780273\n",
            "calculate_influence_vector time: 16.777534008026123\n",
            "degroot time: 6.74311900138855\n",
            "Working on subgraph number 63\n",
            "compute_transition_matrix time: 0.3474087715148926\n",
            "assign_initial_opinions time: 0.0030329227447509766\n",
            "calculate_influence_vector time: 0.2667703628540039\n",
            "degroot time: 1.1941590309143066\n",
            "Working on subgraph number 64\n",
            "compute_transition_matrix time: 22.838479042053223\n",
            "assign_initial_opinions time: 0.025113821029663086\n",
            "calculate_influence_vector time: 48.98684000968933\n",
            "degroot time: 10.759413003921509\n",
            "Working on subgraph number 65\n",
            "compute_transition_matrix time: 90.72830510139465\n",
            "assign_initial_opinions time: 0.04915904998779297\n",
            "calculate_influence_vector time: 9339.380125284195\n",
            "degroot time: 19.886435985565186\n",
            "Working on subgraph number 66\n",
            "compute_transition_matrix time: 0.7656700611114502\n",
            "assign_initial_opinions time: 0.005321025848388672\n",
            "calculate_influence_vector time: 0.7408008575439453\n",
            "degroot time: 1.580491065979004\n",
            "Working on subgraph number 67\n",
            "compute_transition_matrix time: 13.90197205543518\n",
            "assign_initial_opinions time: 0.020565032958984375\n",
            "calculate_influence_vector time: 15.505511999130249\n",
            "degroot time: 5.873268127441406\n",
            "Working on subgraph number 68\n",
            "compute_transition_matrix time: 0.9796230792999268\n",
            "assign_initial_opinions time: 0.004723072052001953\n",
            "calculate_influence_vector time: 2.608600616455078\n",
            "degroot time: 1.2506239414215088\n",
            "Working on subgraph number 69\n",
            "compute_transition_matrix time: 4.0729498863220215\n",
            "assign_initial_opinions time: 0.010453939437866211\n",
            "calculate_influence_vector time: 3.643249750137329\n",
            "degroot time: 2.8705179691314697\n",
            "Working on subgraph number 70\n",
            "compute_transition_matrix time: 0.5235350131988525\n",
            "assign_initial_opinions time: 0.0034198760986328125\n",
            "calculate_influence_vector time: 1.4475188255310059\n",
            "degroot time: 1.037729024887085\n",
            "Working on subgraph number 71\n",
            "compute_transition_matrix time: 0.0446319580078125\n",
            "assign_initial_opinions time: 0.0008871555328369141\n",
            "calculate_influence_vector time: 0.028041839599609375\n",
            "degroot time: 0.13694524765014648\n",
            "Working on subgraph number 72\n",
            "compute_transition_matrix time: 0.35588502883911133\n",
            "assign_initial_opinions time: 0.002662181854248047\n",
            "calculate_influence_vector time: 0.19126367568969727\n",
            "degroot time: 0.9810638427734375\n",
            "Working on subgraph number 73\n",
            "compute_transition_matrix time: 0.49793386459350586\n",
            "assign_initial_opinions time: 0.0033898353576660156\n",
            "calculate_influence_vector time: 0.3698136806488037\n",
            "degroot time: 0.9030380249023438\n",
            "Working on subgraph number 74\n",
            "compute_transition_matrix time: 2.1672351360321045\n",
            "assign_initial_opinions time: 0.008681058883666992\n",
            "calculate_influence_vector time: 7.0626819133758545\n",
            "degroot time: 5.945343971252441\n",
            "Working on subgraph number 75\n",
            "compute_transition_matrix time: 0.7478237152099609\n",
            "assign_initial_opinions time: 0.00437474250793457\n",
            "calculate_influence_vector time: 1.073009729385376\n",
            "degroot time: 1.639845848083496\n",
            "Working on subgraph number 76\n",
            "compute_transition_matrix time: 5.848054885864258\n",
            "assign_initial_opinions time: 0.012098073959350586\n",
            "calculate_influence_vector time: 5.860293865203857\n",
            "degroot time: 7.164865016937256\n",
            "Working on subgraph number 77\n",
            "compute_transition_matrix time: 0.4843440055847168\n",
            "assign_initial_opinions time: 0.003274202346801758\n",
            "calculate_influence_vector time: 0.62906813621521\n",
            "degroot time: 1.0240960121154785\n",
            "Working on subgraph number 78\n",
            "compute_transition_matrix time: 11.040696144104004\n",
            "assign_initial_opinions time: 0.017333030700683594\n",
            "calculate_influence_vector time: 9.29814100265503\n",
            "degroot time: 5.821473121643066\n",
            "Working on subgraph number 79\n",
            "compute_transition_matrix time: 0.3283970355987549\n",
            "assign_initial_opinions time: 0.00254058837890625\n",
            "calculate_influence_vector time: 0.2619740962982178\n",
            "degroot time: 1.0253629684448242\n",
            "Working on subgraph number 80\n",
            "compute_transition_matrix time: 5.1320037841796875\n",
            "assign_initial_opinions time: 0.01154780387878418\n",
            "calculate_influence_vector time: 18.385338068008423\n",
            "degroot time: 16.192664861679077\n",
            "Working on subgraph number 81\n",
            "compute_transition_matrix time: 0.7596080303192139\n",
            "assign_initial_opinions time: 0.0042150020599365234\n",
            "calculate_influence_vector time: 0.9449191093444824\n",
            "degroot time: 2.171586751937866\n",
            "Working on subgraph number 82\n",
            "compute_transition_matrix time: 1.6617839336395264\n",
            "assign_initial_opinions time: 0.006165981292724609\n",
            "calculate_influence_vector time: 1.5482630729675293\n",
            "degroot time: 6.459985256195068\n",
            "Working on subgraph number 83\n",
            "compute_transition_matrix time: 1.429649829864502\n",
            "assign_initial_opinions time: 0.005786895751953125\n",
            "calculate_influence_vector time: 0.9290621280670166\n",
            "degroot time: 2.4436142444610596\n",
            "Working on subgraph number 84\n",
            "compute_transition_matrix time: 0.06089973449707031\n",
            "assign_initial_opinions time: 0.0011150836944580078\n",
            "calculate_influence_vector time: 0.02449512481689453\n",
            "degroot time: 0.15953683853149414\n",
            "Working on subgraph number 85\n",
            "compute_transition_matrix time: 3.1622297763824463\n",
            "assign_initial_opinions time: 0.009109020233154297\n",
            "calculate_influence_vector time: 9.751489639282227\n",
            "degroot time: 4.20928692817688\n",
            "Working on subgraph number 86\n",
            "compute_transition_matrix time: 66.50482726097107\n",
            "assign_initial_opinions time: 0.04333186149597168\n",
            "calculate_influence_vector time: 3300.5040209293365\n",
            "degroot time: 16.927300214767456\n",
            "Working on subgraph number 87\n",
            "compute_transition_matrix time: 0.527562141418457\n",
            "assign_initial_opinions time: 0.005291938781738281\n",
            "calculate_influence_vector time: 0.5747830867767334\n",
            "degroot time: 1.9043829441070557\n",
            "Working on subgraph number 88\n",
            "compute_transition_matrix time: 9.939775943756104\n",
            "assign_initial_opinions time: 0.01633310317993164\n",
            "calculate_influence_vector time: 9.453102111816406\n",
            "degroot time: 4.7158191204071045\n",
            "Working on subgraph number 89\n",
            "compute_transition_matrix time: 0.7637021541595459\n",
            "assign_initial_opinions time: 0.004081010818481445\n",
            "calculate_influence_vector time: 0.892611026763916\n",
            "degroot time: 1.6526670455932617\n",
            "Working on subgraph number 90\n",
            "compute_transition_matrix time: 945.5305562019348\n",
            "assign_initial_opinions time: 0.02706599235534668\n",
            "calculate_influence_vector time: 1106.555916070938\n",
            "degroot time: 19.90726613998413\n",
            "Working on subgraph number 91\n",
            "compute_transition_matrix time: 6.781816244125366\n",
            "assign_initial_opinions time: 0.013444900512695312\n",
            "calculate_influence_vector time: 921.1462662220001\n",
            "degroot time: 13.491399049758911\n",
            "Working on subgraph number 92\n",
            "compute_transition_matrix time: 946.988728761673\n",
            "assign_initial_opinions time: 0.035867929458618164\n",
            "calculate_influence_vector time: 4666.4223279953\n",
            "degroot time: 14.071102857589722\n",
            "Working on subgraph number 93\n",
            "compute_transition_matrix time: 60.448527097702026\n",
            "assign_initial_opinions time: 0.04101300239562988\n",
            "calculate_influence_vector time: 9045.088120937347\n",
            "degroot time: 22.790094137191772\n",
            "Working on subgraph number 94\n",
            "compute_transition_matrix time: 1.4503118991851807\n",
            "assign_initial_opinions time: 0.006372690200805664\n",
            "calculate_influence_vector time: 4.3196961879730225\n",
            "degroot time: 2.3672289848327637\n",
            "Working on subgraph number 95\n",
            "compute_transition_matrix time: 9.371686697006226\n",
            "assign_initial_opinions time: 0.01595783233642578\n",
            "calculate_influence_vector time: 12.94275712966919\n",
            "degroot time: 7.41227912902832\n",
            "Working on subgraph number 96\n",
            "compute_transition_matrix time: 6.7857630252838135\n",
            "assign_initial_opinions time: 0.013434886932373047\n",
            "calculate_influence_vector time: 21.433135986328125\n",
            "degroot time: 9.889479875564575\n",
            "Working on subgraph number 97\n",
            "compute_transition_matrix time: 4.599646806716919\n",
            "assign_initial_opinions time: 0.010863065719604492\n",
            "calculate_influence_vector time: 13.186820268630981\n",
            "degroot time: 959.1435561180115\n",
            "Working on subgraph number 98\n",
            "compute_transition_matrix time: 0.4326469898223877\n",
            "assign_initial_opinions time: 0.0030078887939453125\n",
            "calculate_influence_vector time: 0.9055149555206299\n",
            "degroot time: 2.0146570205688477\n",
            "Working on subgraph number 99\n",
            "compute_transition_matrix time: 0.8435871601104736\n",
            "assign_initial_opinions time: 0.004446983337402344\n",
            "calculate_influence_vector time: 0.9939370155334473\n",
            "degroot time: 1.3546888828277588\n",
            "Working on subgraph number 100\n",
            "compute_transition_matrix time: 2.990318775177002\n",
            "assign_initial_opinions time: 0.008617877960205078\n",
            "calculate_influence_vector time: 8.934026956558228\n",
            "degroot time: 4.574560165405273\n"
          ]
        }
      ],
      "source": [
        "all_final_opinions = []\n",
        "all_influence_vectors =[]\n",
        "iterations = []\n",
        "opinions_history_all = []\n",
        "all_second_eigenvalues = []\n",
        "for i, subgraph in enumerate(subgraphs):\n",
        "    print(f'Working on subgraph number {i + 1}')\n",
        "    final_opinions, influence_vector, opinions_history, second_eigenvalue = analyze_opinion_dynamics(subgraph)\n",
        "    all_final_opinions.extend(final_opinions.values())\n",
        "    all_influence_vectors.extend(influence_vector)\n",
        "    opinions_history_all.extend(opinions_history)\n",
        "    all_second_eigenvalues.append(second_eigenvalue)\n",
        "    iterations.append(i)\n"
      ]
    },
    {
      "cell_type": "code",
      "execution_count": null,
      "metadata": {
        "id": "QA4bIA1CML08"
      },
      "outputs": [],
      "source": [
        "with open('all_final_opinions.pkl', 'wb') as file:\n",
        "    pickle.dump(all_final_opinions, file)\n",
        "\n",
        "with open('influencevector.pkl', 'wb') as file:\n",
        "    pickle.dump(all_influence_vectors, file)\n",
        "\n",
        "with open('allhistory.pkl', 'wb') as file:\n",
        "    pickle.dump(opinions_history_all, file)\n",
        "\n",
        "with open('allsecondeigen.pkl', 'wb') as file:\n",
        "    pickle.dump(all_second_eigenvalues, file)"
      ]
    },
    {
      "cell_type": "code",
      "execution_count": null,
      "metadata": {
        "id": "9PZLoX5GML08"
      },
      "outputs": [],
      "source": [
        "with open('all_final_opinions.pkl', 'rb') as file:\n",
        "    all_final_opinions = pickle.load(file)\n",
        "\n",
        "with open('influencevector.pkl', 'rb') as file:\n",
        "    all_influence_vectors = pickle.load(file)\n",
        "\n",
        "with open('allhistory.pkl', 'rb') as file:\n",
        "    opinions_history_all = pickle.load(file)\n",
        "\n",
        "with open('allsecondeigen.pkl', 'rb') as file:\n",
        "   all_second_eigenvalues = pickle.load(file)"
      ]
    },
    {
      "cell_type": "code",
      "execution_count": null,
      "metadata": {
        "id": "fyIR2vz4ML08",
        "outputId": "7a0010d1-abde-44ec-ffe0-2b0ce2614a49"
      },
      "outputs": [
        {
          "data": {
            "image/png": "[encoded data removed]",
            "text/plain": [
              "<Figure size 720x432 with 1 Axes>"
            ]
          },
          "metadata": {
            "needs_background": "light"
          },
          "output_type": "display_data"
        },
        {
          "name": "stdout",
          "output_type": "stream",
          "text": [
            "Max influence: 0.4467880398943755, Median influence: 0.004146305728990406\n"
          ]
        }
      ],
      "source": [
        "plot_histogram(all_influence_vectors, \"Histogram of Influences Across All Networks\")\n",
        "max_influence = max(all_influence_vectors)\n",
        "median_influence = np.median(all_influence_vectors)\n",
        "print(f\"Max influence: {max_influence}, Median influence: {median_influence}\")\n"
      ]
    },
    {
      "cell_type": "markdown",
      "metadata": {
        "id": "3ygJ-u4PML08"
      },
      "source": [
        "We observe a histogram that is heavily skewed to the right, where the max influence is noticeably higher than the median influence. This shows that most individuals have very low influence on others and only few have an unusually disproportionate level of influence."
      ]
    },
    {
      "cell_type": "code",
      "execution_count": null,
      "metadata": {
        "id": "y5dZa_TaML08"
      },
      "outputs": [],
      "source": [
        "with open('iterations.pkl', 'wb') as file:\n",
        "    pickle.dump(iterations, file)"
      ]
    },
    {
      "cell_type": "markdown",
      "metadata": {
        "id": "NGBA4T1dML08"
      },
      "source": [
        "### (d) Plot a histogram of the consensus opinions across all networks. Which is the most popular (i.e. modal) opinion?"
      ]
    },
    {
      "cell_type": "code",
      "execution_count": null,
      "metadata": {
        "id": "rr4GAyGPML08",
        "outputId": "104582b4-39e8-4284-a2af-5c29373b7754"
      },
      "outputs": [
        {
          "data": {
            "image/png": "[encoded data removed]",
            "text/plain": [
              "<Figure size 720x432 with 1 Axes>"
            ]
          },
          "metadata": {
            "needs_background": "light"
          },
          "output_type": "display_data"
        }
      ],
      "source": [
        "plot_histogram(all_final_opinions, '\"Histogram of Consensus Across All Networks\"')"
      ]
    },
    {
      "cell_type": "markdown",
      "metadata": {
        "id": "791ePqU5ML08"
      },
      "source": [
        "It makes sense that our final opinions have a distribution around the same value, this shows that we have converged into a consensus, which is expected."
      ]
    },
    {
      "cell_type": "code",
      "execution_count": null,
      "metadata": {
        "id": "8701ju7nML08",
        "outputId": "cb024257-0207-4d11-c0b3-051f0c686593"
      },
      "outputs": [
        {
          "data": {
            "text/plain": [
              "0.5007535109388085"
            ]
          },
          "execution_count": 27,
          "metadata": {},
          "output_type": "execute_result"
        }
      ],
      "source": [
        "statistics.mode(all_final_opinions)"
      ]
    },
    {
      "cell_type": "markdown",
      "metadata": {
        "id": "6S1hAyPxML08"
      },
      "source": [
        "We observe that at consensus, the distribution of opinions, which were initially uniformly distributed from 0 to 1, now converges to a much narrower distribution. The distribution is still centered around a mean of ~0.50 which is also equal to the modal opinion, but the distribution now only ranges within +/- 0.15 from the mean. This reflects the concept of consensus wherein most of individuals show the same or similar opinions at convergennce."
      ]
    },
    {
      "cell_type": "markdown",
      "metadata": {
        "id": "KipXMApGML09"
      },
      "source": [
        "##### (e) Now we want to test the speed of learning. For each network, calculate the first period, $t^*$, where $(\\Sigma_i ˜d_i(A)(p_i(t)−pi(∞))^2)^{0.5} < ε$ for $ε = 0.1$ and $˜di(A)= \\frac{di(A)}{\\Sigma_i di(A)} $."
      ]
    },
    {
      "cell_type": "code",
      "execution_count": null,
      "metadata": {
        "id": "WWJk0N4yML09"
      },
      "outputs": [],
      "source": [
        "def calc_time_to_consensus(g, T, second_eigval, eps=0.1):\n",
        "    degrees = np.array(list(dict(g.degree()).values()))\n",
        "    inv_degrees = np.diag(1 / degrees)\n",
        "\n",
        "    # Calculate p_inf\n",
        "    p_inf = np.ones(T.shape[0]) / T.shape[0]\n",
        "\n",
        "    pt = p_inf\n",
        "    t = 0\n",
        "\n",
        "    while True:\n",
        "        pt_new = inv_degrees @ (T @ pt)\n",
        "        diff = np.linalg.norm(pt_new - pt, ord=2)\n",
        "\n",
        "        if diff < eps * (1 - second_eigval):\n",
        "            t_star = t\n",
        "            break\n",
        "\n",
        "        pt = pt_new\n",
        "        t += 1\n",
        "\n",
        "    return t_star, pt"
      ]
    },
    {
      "cell_type": "code",
      "execution_count": null,
      "metadata": {
        "id": "7pEFim6PML09",
        "outputId": "8bec7131-a921-4b28-9727-b4a6984fdfe4"
      },
      "outputs": [
        {
          "name": "stdout",
          "output_type": "stream",
          "text": [
            "Working on subgraph number 1\n",
            "Working on subgraph number 2\n",
            "Working on subgraph number 3\n",
            "Working on subgraph number 4\n",
            "Working on subgraph number 5\n",
            "Working on subgraph number 6\n",
            "Working on subgraph number 7\n",
            "Working on subgraph number 8\n",
            "Working on subgraph number 9\n",
            "Working on subgraph number 10\n",
            "Working on subgraph number 11\n",
            "Working on subgraph number 12\n",
            "Working on subgraph number 13\n",
            "Working on subgraph number 14\n",
            "Working on subgraph number 15\n",
            "Working on subgraph number 16\n",
            "Working on subgraph number 17\n",
            "Working on subgraph number 18\n",
            "Working on subgraph number 19\n",
            "Working on subgraph number 20\n",
            "Working on subgraph number 21\n",
            "Working on subgraph number 22\n",
            "Working on subgraph number 23\n",
            "Working on subgraph number 24\n",
            "Working on subgraph number 25\n",
            "Working on subgraph number 26\n",
            "Working on subgraph number 27\n",
            "Working on subgraph number 28\n",
            "Working on subgraph number 29\n",
            "Working on subgraph number 30\n",
            "Working on subgraph number 31\n",
            "Working on subgraph number 32\n",
            "Working on subgraph number 33\n",
            "Working on subgraph number 34\n",
            "Working on subgraph number 35\n",
            "Working on subgraph number 36\n",
            "Working on subgraph number 37\n",
            "Working on subgraph number 38\n",
            "Working on subgraph number 39\n",
            "Working on subgraph number 40\n",
            "Working on subgraph number 41\n",
            "Working on subgraph number 42\n",
            "Working on subgraph number 43\n",
            "Working on subgraph number 44\n",
            "Working on subgraph number 45\n",
            "Working on subgraph number 46\n",
            "Working on subgraph number 47\n",
            "Working on subgraph number 48\n",
            "Working on subgraph number 49\n",
            "Working on subgraph number 50\n",
            "Working on subgraph number 51\n",
            "Working on subgraph number 52\n",
            "Working on subgraph number 53\n",
            "Working on subgraph number 54\n",
            "Working on subgraph number 55\n",
            "Working on subgraph number 56\n",
            "Working on subgraph number 57\n",
            "Working on subgraph number 58\n",
            "Working on subgraph number 59\n",
            "Working on subgraph number 60\n",
            "Working on subgraph number 61\n",
            "Working on subgraph number 62\n",
            "Working on subgraph number 63\n",
            "Working on subgraph number 64\n",
            "Working on subgraph number 65\n",
            "Working on subgraph number 66\n",
            "Working on subgraph number 67\n",
            "Working on subgraph number 68\n",
            "Working on subgraph number 69\n",
            "Working on subgraph number 70\n",
            "Working on subgraph number 71\n",
            "Working on subgraph number 72\n",
            "Working on subgraph number 73\n",
            "Working on subgraph number 74\n",
            "Working on subgraph number 75\n",
            "Working on subgraph number 76\n",
            "Working on subgraph number 77\n",
            "Working on subgraph number 78\n",
            "Working on subgraph number 79\n",
            "Working on subgraph number 80\n",
            "Working on subgraph number 81\n",
            "Working on subgraph number 82\n",
            "Working on subgraph number 83\n",
            "Working on subgraph number 84\n",
            "Working on subgraph number 85\n",
            "Working on subgraph number 86\n",
            "Working on subgraph number 87\n",
            "Working on subgraph number 88\n",
            "Working on subgraph number 89\n",
            "Working on subgraph number 90\n",
            "Working on subgraph number 91\n",
            "Working on subgraph number 92\n",
            "Working on subgraph number 93\n",
            "Working on subgraph number 94\n",
            "Working on subgraph number 95\n",
            "Working on subgraph number 96\n",
            "Working on subgraph number 97\n",
            "Working on subgraph number 98\n",
            "Working on subgraph number 99\n",
            "Working on subgraph number 100\n"
          ]
        }
      ],
      "source": [
        "time_to_consensus = []\n",
        "\n",
        "for i, subgraph in enumerate(subgraphs):\n",
        "    print(f'Working on subgraph number {i + 1}')\n",
        "\n",
        "    transition_matrix_dict = compute_T(subgraph)\n",
        "    nodes = list(subgraph.nodes())\n",
        "    n = len(nodes)\n",
        "    transition_matrix_np = np.zeros((n, n))\n",
        "    for row, node in enumerate(nodes):\n",
        "        for col, neighbor in enumerate(nodes):\n",
        "            if neighbor in transition_matrix_dict[node]:\n",
        "                transition_matrix_np[row, col] = transition_matrix_dict[node][neighbor]\n",
        "\n",
        "    t_star = calc_time_to_consensus(subgraph, transition_matrix_np, all_second_eigenvalues[i])\n",
        "    time_to_consensus.append(t_star)\n"
      ]
    },
    {
      "cell_type": "code",
      "execution_count": null,
      "metadata": {
        "id": "-1ws4dSbML09",
        "outputId": "d9e5540f-1e7d-48d3-aa7a-38a4ed44608c"
      },
      "outputs": [
        {
          "name": "stdout",
          "output_type": "stream",
          "text": [
            "3\n"
          ]
        }
      ],
      "source": [
        "unique_values_count = len(set(time_to_consensus))\n",
        "print(unique_values_count)"
      ]
    },
    {
      "cell_type": "code",
      "execution_count": null,
      "metadata": {
        "id": "MtuBwis1ML09"
      },
      "outputs": [],
      "source": [
        "with open('tstar.pkl', 'wb') as file:\n",
        "    pickle.dump(t_star, file)"
      ]
    },
    {
      "cell_type": "markdown",
      "metadata": {
        "id": "hI2neYuqML09"
      },
      "source": [
        "##### (f) Construct a plot with the second eigenvalue of the network on the x-axis and $t*$ on the y-axis. Do you get the relationship you expected? What happens as you lower the value of epsilon?"
      ]
    },
    {
      "cell_type": "code",
      "execution_count": null,
      "metadata": {
        "id": "91gLttljML09",
        "outputId": "fc2f5550-6b93-4299-e68d-0c685749e492"
      },
      "outputs": [
        {
          "data": {
            "image/png": "[encoded data removed]",
            "text/plain": [
              "<Figure size 432x288 with 1 Axes>"
            ]
          },
          "metadata": {
            "needs_background": "light"
          },
          "output_type": "display_data"
        }
      ],
      "source": [
        "plt.scatter(all_second_eigenvalues, time_to_consensus)\n",
        "plt.xlabel('Second Eigenvalue')\n",
        "plt.ylabel('Time to Consensus (t*)')\n",
        "plt.title('Time to Consensus vs Second Eigenvalue')\n",
        "plt.show()"
      ]
    },
    {
      "cell_type": "markdown",
      "metadata": {
        "id": "Pv0a1INbML09"
      },
      "source": [
        "In terms of the relationship between the second eigenvalue and the time required to achieve consensus, there is a general expectation that networks with a higher second eigenvalue will experience a longer convergence time. This is because convergence tends to be slower in such networks. When the convergence criterion (ε) is decreased, meaning a stricter condition for convergence is imposed, it is likely that the time to reach consensus will increase. This is due to the increased difficulty of satisfying the more stringent convergence requirement, leading to a higher number of iterations necessary for the algorithm to converge. In the given example, we observe a significantly large second eigenvalue close to 0.99, which required 2 iterations to achieve consensus."
      ]
    },
    {
      "cell_type": "markdown",
      "metadata": {
        "id": "oSsqikYTML09"
      },
      "source": [
        "##### (g) Now assume that the $p_i(0)$ that you obtained from the uniform distribution above is in fact the innate opinion $s_i$ of agent $i$. Simulate a susceptibility parameter $\\alpha_i$ also from the Uniform (0,1) for each agent $i$ and solve, for each network, the steady-state value $p*$ under the Friedkin-Johnsen model. Construct a histogram of $p*$ across all networks. What is the most popular opinion? How does your answer change if $α_i$ is distributed Uniform (0.5, 1)?"
      ]
    },
    {
      "cell_type": "markdown",
      "metadata": {
        "id": "CnNOlmooML1B"
      },
      "source": [
        "$p(t) = (1-α_i) \\Sigma T_{ij} * p_j(t-1) + (α_i) (s_i) $"
      ]
    },
    {
      "cell_type": "code",
      "execution_count": null,
      "metadata": {
        "id": "uhuHfHW7ML1B"
      },
      "outputs": [],
      "source": [
        "def assign_alphas(g, uniform_range):\n",
        "    alphas = {node: np.random.uniform(uniform_range[0], uniform_range[1]) for node in g.nodes()}\n",
        "    return alphas"
      ]
    },
    {
      "cell_type": "code",
      "execution_count": null,
      "metadata": {
        "id": "8dheqGKoML1B"
      },
      "outputs": [],
      "source": [
        "def friedkin_johnsen(transition_matrix, initial_opinions, alpha, tolerance=1e-6):\n",
        "    opinions = initial_opinions.copy()\n",
        "    delta = 1\n",
        "\n",
        "    while delta > tolerance:\n",
        "        delta = 0\n",
        "        new_opinions = opinions.copy()\n",
        "\n",
        "        for node, neighbors in transition_matrix.items():\n",
        "            new_opinion = sum(transition_matrix[node][neighbor] * opinions[neighbor] for neighbor in neighbors)\n",
        "            new_opinion = alpha[node] * new_opinion + (1 - alpha[node]) * initial_opinions[node]\n",
        "            delta = max(delta, abs(new_opinion - opinions[node]))\n",
        "            new_opinions[node] = new_opinion\n",
        "\n",
        "        opinions = new_opinions\n",
        "\n",
        "    return opinions"
      ]
    },
    {
      "cell_type": "code",
      "execution_count": null,
      "metadata": {
        "id": "Xu7l5GrLML1B",
        "outputId": "cc1ee10e-c7b0-4fd1-e2d3-80b06a1ca46d"
      },
      "outputs": [
        {
          "name": "stdout",
          "output_type": "stream",
          "text": [
            "Working on subgraph number 1\n",
            "Working on subgraph number 2\n",
            "Working on subgraph number 3\n",
            "Working on subgraph number 4\n",
            "Working on subgraph number 5\n",
            "Working on subgraph number 6\n",
            "Working on subgraph number 7\n",
            "Working on subgraph number 8\n",
            "Working on subgraph number 9\n",
            "Working on subgraph number 10\n",
            "Working on subgraph number 11\n",
            "Working on subgraph number 12\n",
            "Working on subgraph number 13\n",
            "Working on subgraph number 14\n",
            "Working on subgraph number 15\n",
            "Working on subgraph number 16\n",
            "Working on subgraph number 17\n",
            "Working on subgraph number 18\n",
            "Working on subgraph number 19\n",
            "Working on subgraph number 20\n",
            "Working on subgraph number 21\n",
            "Working on subgraph number 22\n",
            "Working on subgraph number 23\n",
            "Working on subgraph number 24\n",
            "Working on subgraph number 25\n",
            "Working on subgraph number 26\n",
            "Working on subgraph number 27\n",
            "Working on subgraph number 28\n",
            "Working on subgraph number 29\n",
            "Working on subgraph number 30\n",
            "Working on subgraph number 31\n",
            "Working on subgraph number 32\n",
            "Working on subgraph number 33\n",
            "Working on subgraph number 34\n",
            "Working on subgraph number 35\n",
            "Working on subgraph number 36\n",
            "Working on subgraph number 37\n",
            "Working on subgraph number 38\n",
            "Working on subgraph number 39\n",
            "Working on subgraph number 40\n",
            "Working on subgraph number 41\n",
            "Working on subgraph number 42\n",
            "Working on subgraph number 43\n",
            "Working on subgraph number 44\n",
            "Working on subgraph number 45\n",
            "Working on subgraph number 46\n",
            "Working on subgraph number 47\n",
            "Working on subgraph number 48\n",
            "Working on subgraph number 49\n",
            "Working on subgraph number 50\n",
            "Working on subgraph number 51\n",
            "Working on subgraph number 52\n",
            "Working on subgraph number 53\n",
            "Working on subgraph number 54\n",
            "Working on subgraph number 55\n",
            "Working on subgraph number 56\n",
            "Working on subgraph number 57\n",
            "Working on subgraph number 58\n",
            "Working on subgraph number 59\n",
            "Working on subgraph number 60\n",
            "Working on subgraph number 61\n",
            "Working on subgraph number 62\n",
            "Working on subgraph number 63\n",
            "Working on subgraph number 64\n",
            "Working on subgraph number 65\n",
            "Working on subgraph number 66\n",
            "Working on subgraph number 67\n",
            "Working on subgraph number 68\n",
            "Working on subgraph number 69\n",
            "Working on subgraph number 70\n",
            "Working on subgraph number 71\n",
            "Working on subgraph number 72\n",
            "Working on subgraph number 73\n",
            "Working on subgraph number 74\n",
            "Working on subgraph number 75\n",
            "Working on subgraph number 76\n",
            "Working on subgraph number 77\n",
            "Working on subgraph number 78\n",
            "Working on subgraph number 79\n",
            "Working on subgraph number 80\n",
            "Working on subgraph number 81\n",
            "Working on subgraph number 82\n",
            "Working on subgraph number 83\n",
            "Working on subgraph number 84\n",
            "Working on subgraph number 85\n",
            "Working on subgraph number 86\n",
            "Working on subgraph number 87\n",
            "Working on subgraph number 88\n",
            "Working on subgraph number 89\n",
            "Working on subgraph number 90\n",
            "Working on subgraph number 91\n",
            "Working on subgraph number 92\n",
            "Working on subgraph number 93\n",
            "Working on subgraph number 94\n",
            "Working on subgraph number 95\n",
            "Working on subgraph number 96\n",
            "Working on subgraph number 97\n",
            "Working on subgraph number 98\n",
            "Working on subgraph number 99\n",
            "Working on subgraph number 100\n"
          ]
        }
      ],
      "source": [
        "\n",
        "all_steady_states = []\n",
        "\n",
        "for i, subgraph in enumerate(subgraphs):\n",
        "    print(f'Working on subgraph number {i + 1}')\n",
        "\n",
        "    transition_matrix_dict = compute_T(subgraph)\n",
        "    initial_opinions = assign_p0(subgraph)\n",
        "    alpha = assign_alphas(subgraph, (0, 1))\n",
        "\n",
        "    final_opinions = friedkin_johnsen(transition_matrix_dict, initial_opinions, alpha)\n",
        "    all_steady_states.extend(final_opinions.values())\n"
      ]
    },
    {
      "cell_type": "code",
      "execution_count": null,
      "metadata": {
        "id": "6492YsRhML1C",
        "outputId": "d99da2b3-2e56-40b3-c67b-7c96581cfc01"
      },
      "outputs": [
        {
          "data": {
            "image/png": "[encoded data removed]",
            "text/plain": [
              "<Figure size 720x432 with 1 Axes>"
            ]
          },
          "metadata": {
            "needs_background": "light"
          },
          "output_type": "display_data"
        }
      ],
      "source": [
        "plt.figure(figsize=(10, 6))  # Set the size of the plot\n",
        "plt.hist(all_steady_states, bins=50, color='steelblue', edgecolor='black', alpha=0.7)\n",
        "plt.title('Histogram of Steady State opinions across all networks', fontsize=18)\n",
        "plt.xlabel('Steady state opinions under friedkin-johnsen', fontsize=14)\n",
        "plt.ylabel('Frequency', fontsize=14)\n",
        "plt.xticks(fontsize=12)\n",
        "plt.yticks(fontsize=12)\n",
        "plt.grid(axis='y', alpha=0.5)\n",
        "plt.show()"
      ]
    },
    {
      "cell_type": "markdown",
      "metadata": {
        "id": "qM8L7fvwML1C"
      },
      "source": [
        "Compared to a regular DeGroot model observed in part d, the distribution of opinions in a Friedkin-Johnsen model converges less. While the distribution of final opinions of the former model narrows, that of the latter model remains within the range of 0 and 1. This shows that because people retain some of their initial beliefs, less popular opinions (those around 0 and 1) can still be observed even at convergence. In this example, an initially uniform distribution does converge, where the histogram becomes  more bell-shaped and most opinions now mostly located at the mean - thus the most popular opinion is located at the mean."
      ]
    },
    {
      "cell_type": "code",
      "execution_count": null,
      "metadata": {
        "id": "Uf_aV2yZML1C",
        "outputId": "d56802b5-9986-4bc1-d29d-e8afd99fcdf6"
      },
      "outputs": [
        {
          "name": "stdout",
          "output_type": "stream",
          "text": [
            "Working on subgraph number 1\n",
            "Working on subgraph number 2\n",
            "Working on subgraph number 3\n",
            "Working on subgraph number 4\n",
            "Working on subgraph number 5\n",
            "Working on subgraph number 6\n",
            "Working on subgraph number 7\n",
            "Working on subgraph number 8\n",
            "Working on subgraph number 9\n",
            "Working on subgraph number 10\n",
            "Working on subgraph number 11\n",
            "Working on subgraph number 12\n",
            "Working on subgraph number 13\n",
            "Working on subgraph number 14\n",
            "Working on subgraph number 15\n",
            "Working on subgraph number 16\n",
            "Working on subgraph number 17\n",
            "Working on subgraph number 18\n",
            "Working on subgraph number 19\n",
            "Working on subgraph number 20\n",
            "Working on subgraph number 21\n",
            "Working on subgraph number 22\n",
            "Working on subgraph number 23\n",
            "Working on subgraph number 24\n",
            "Working on subgraph number 25\n",
            "Working on subgraph number 26\n",
            "Working on subgraph number 27\n",
            "Working on subgraph number 28\n",
            "Working on subgraph number 29\n",
            "Working on subgraph number 30\n",
            "Working on subgraph number 31\n",
            "Working on subgraph number 32\n",
            "Working on subgraph number 33\n",
            "Working on subgraph number 34\n",
            "Working on subgraph number 35\n",
            "Working on subgraph number 36\n",
            "Working on subgraph number 37\n",
            "Working on subgraph number 38\n",
            "Working on subgraph number 39\n",
            "Working on subgraph number 40\n",
            "Working on subgraph number 41\n",
            "Working on subgraph number 42\n",
            "Working on subgraph number 43\n",
            "Working on subgraph number 44\n",
            "Working on subgraph number 45\n",
            "Working on subgraph number 46\n",
            "Working on subgraph number 47\n",
            "Working on subgraph number 48\n",
            "Working on subgraph number 49\n",
            "Working on subgraph number 50\n",
            "Working on subgraph number 51\n",
            "Working on subgraph number 52\n",
            "Working on subgraph number 53\n",
            "Working on subgraph number 54\n",
            "Working on subgraph number 55\n",
            "Working on subgraph number 56\n",
            "Working on subgraph number 57\n",
            "Working on subgraph number 58\n",
            "Working on subgraph number 59\n",
            "Working on subgraph number 60\n",
            "Working on subgraph number 61\n",
            "Working on subgraph number 62\n",
            "Working on subgraph number 63\n",
            "Working on subgraph number 64\n",
            "Working on subgraph number 65\n",
            "Working on subgraph number 66\n",
            "Working on subgraph number 67\n",
            "Working on subgraph number 68\n",
            "Working on subgraph number 69\n",
            "Working on subgraph number 70\n",
            "Working on subgraph number 71\n",
            "Working on subgraph number 72\n",
            "Working on subgraph number 73\n",
            "Working on subgraph number 74\n",
            "Working on subgraph number 75\n",
            "Working on subgraph number 76\n",
            "Working on subgraph number 77\n",
            "Working on subgraph number 78\n",
            "Working on subgraph number 79\n",
            "Working on subgraph number 80\n",
            "Working on subgraph number 81\n",
            "Working on subgraph number 82\n",
            "Working on subgraph number 83\n",
            "Working on subgraph number 84\n",
            "Working on subgraph number 85\n",
            "Working on subgraph number 86\n",
            "Working on subgraph number 87\n",
            "Working on subgraph number 88\n",
            "Working on subgraph number 89\n",
            "Working on subgraph number 90\n",
            "Working on subgraph number 91\n",
            "Working on subgraph number 92\n",
            "Working on subgraph number 93\n",
            "Working on subgraph number 94\n",
            "Working on subgraph number 95\n",
            "Working on subgraph number 96\n",
            "Working on subgraph number 97\n",
            "Working on subgraph number 98\n",
            "Working on subgraph number 99\n",
            "Working on subgraph number 100\n"
          ]
        }
      ],
      "source": [
        "all_steady_states_2 = []\n",
        "\n",
        "for i, subgraph in enumerate(subgraphs):\n",
        "    print(f'Working on subgraph number {i + 1}')\n",
        "\n",
        "    transition_matrix_dict = compute_T(subgraph)\n",
        "    initial_opinions = assign_p0(subgraph)\n",
        "    alpha = assign_alphas(subgraph, (0.5, 1))\n",
        "\n",
        "    final_opinions = friedkin_johnsen(transition_matrix_dict, initial_opinions, alpha)\n",
        "    all_steady_states_2.extend(final_opinions.values())"
      ]
    },
    {
      "cell_type": "code",
      "execution_count": null,
      "metadata": {
        "id": "cxbEcobQML1C",
        "outputId": "a7f97994-c62a-4e85-d24c-898abcef582c"
      },
      "outputs": [
        {
          "data": {
            "image/png": "[encoded data removed]",
            "text/plain": [
              "<Figure size 720x432 with 1 Axes>"
            ]
          },
          "metadata": {
            "needs_background": "light"
          },
          "output_type": "display_data"
        }
      ],
      "source": [
        "plt.figure(figsize=(10, 6))  # Set the size of the plot\n",
        "plt.hist(all_steady_states_2, bins=50, color='steelblue', edgecolor='black', alpha=0.7)\n",
        "plt.title('Histogram of Steady State opinions across all networks', fontsize=18)\n",
        "plt.xlabel('Steady state opinions under friedkin-johnsen', fontsize=14)\n",
        "plt.ylabel('Frequency', fontsize=14)\n",
        "plt.xticks(fontsize=12)\n",
        "plt.yticks(fontsize=12)\n",
        "plt.grid(axis='y', alpha=0.5)\n",
        "plt.show()"
      ]
    },
    {
      "cell_type": "markdown",
      "metadata": {
        "id": "wvPMHUsyML1C"
      },
      "source": [
        "An $\\alpha_i$ with a narrower distribution of Uniform (0.5,1) means that there is less variability in the level of susceptibility across individuals. In this case, more inidividuals rely on their innate beliefs and are thus less susceptible to others' opinions. Thus, it is surprising to observe that the distribution is narrower than  when $\\alpha_i$ is Uniform (0,1) given that individuals should hang on to their initial beliefs more."
      ]
    }
  ],
  "metadata": {
    "kernelspec": {
      "display_name": "base",
      "language": "python",
      "name": "python3"
    },
    "language_info": {
      "codemirror_mode": {
        "name": "ipython",
        "version": 3
      },
      "file_extension": ".py",
      "mimetype": "text/x-python",
      "name": "python",
      "nbconvert_exporter": "python",
      "pygments_lexer": "ipython3",
      "version": "3.9.16"
    },
    "orig_nbformat": 4,
    "colab": {
      "provenance": []
    }
  },
  "nbformat": 4,
  "nbformat_minor": 0
}